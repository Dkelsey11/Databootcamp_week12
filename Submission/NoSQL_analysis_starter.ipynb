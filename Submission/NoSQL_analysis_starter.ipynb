{
 "cells": [
  {
   "cell_type": "markdown",
   "id": "9a57c4c6",
   "metadata": {},
   "source": [
    "# Eat Safe, Love"
   ]
  },
  {
   "cell_type": "markdown",
   "id": "064ef857",
   "metadata": {},
   "source": [
    "## Notebook Set Up"
   ]
  },
  {
   "cell_type": "code",
   "execution_count": 21,
   "id": "3ecdd008",
   "metadata": {},
   "outputs": [],
   "source": [
    "from pymongo import MongoClient\n",
    "import pandas as pd\n",
    "from pprint import pprint"
   ]
  },
  {
   "cell_type": "code",
   "execution_count": 22,
   "id": "59390c4a",
   "metadata": {},
   "outputs": [],
   "source": [
    "# Create an instance of MongoClient\n",
    "mongo = MongoClient(port=27017)"
   ]
  },
  {
   "cell_type": "code",
   "execution_count": 23,
   "id": "71e373c1",
   "metadata": {},
   "outputs": [],
   "source": [
    "# assign the uk_food database to a variable name\n",
    "db = mongo['uk_food']"
   ]
  },
  {
   "cell_type": "code",
   "execution_count": 24,
   "id": "18ab463c",
   "metadata": {},
   "outputs": [
    {
     "name": "stdout",
     "output_type": "stream",
     "text": [
      "['establishments']\n"
     ]
    }
   ],
   "source": [
    "# review the collections in our database\n",
    "print(db.list_collection_names())"
   ]
  },
  {
   "cell_type": "code",
   "execution_count": 25,
   "id": "11c9f11b",
   "metadata": {},
   "outputs": [],
   "source": [
    "# assign the collection to a variable\n",
    "establishments = db['establishments']"
   ]
  },
  {
   "cell_type": "markdown",
   "id": "d5671434",
   "metadata": {},
   "source": [
    "## Part 3: Exploratory Analysis\n",
    "Unless otherwise stated, for each question: \n",
    "* Use `count_documents` to display the number of documents contained in the result.\n",
    "* Display the first document in the results using `pprint`.\n",
    "* Convert the result to a Pandas DataFrame, print the number of rows in the DataFrame, and display the first 10 rows."
   ]
  },
  {
   "cell_type": "markdown",
   "id": "314bd884",
   "metadata": {},
   "source": [
    "### 1. Which establishments have a hygiene score equal to 20?"
   ]
  },
  {
   "cell_type": "code",
   "execution_count": 26,
   "id": "c2da7648",
   "metadata": {},
   "outputs": [
    {
     "name": "stdout",
     "output_type": "stream",
     "text": [
      "\n",
      "{'AddressLine1': '5-6 Southfields Road',\n",
      " 'BusinessName': 'The Chase Rest Home',\n",
      " 'BusinessType': 'Caring Premises',\n",
      " '_id': ObjectId('67a04dd9aad77ef77ab6085e'),\n",
      " 'scores': {'ConfidenceInManagement': 20, 'Hygiene': 20, 'Structural': 20}}\n"
     ]
    }
   ],
   "source": [
    "# Find the establishments with a hygiene score of 20\n",
    "query = {\"scores.Hygiene\": 20}\n",
    "req_fields = {\"_id\":1, \"AddressLine1\":1, \"BusinessName\":1, \"BusinessType\":1, \"scores\":1}\n",
    "\n",
    "# Use count_documents to display the number of documents in the result\n",
    "sort = [(\"scores.Hygiene\", -1)]\n",
    "# Display the first document in the results using pprint\n",
    "print()\n",
    "pprint(establishments.find(query, req_fields).sort(sort)[0])"
   ]
  },
  {
   "cell_type": "code",
   "execution_count": 28,
   "id": "a6e5cece",
   "metadata": {},
   "outputs": [
    {
     "name": "stdout",
     "output_type": "stream",
     "text": [
      "(0, 0)\n"
     ]
    },
    {
     "data": {
      "text/html": [
       "<div>\n",
       "<style scoped>\n",
       "    .dataframe tbody tr th:only-of-type {\n",
       "        vertical-align: middle;\n",
       "    }\n",
       "\n",
       "    .dataframe tbody tr th {\n",
       "        vertical-align: top;\n",
       "    }\n",
       "\n",
       "    .dataframe thead th {\n",
       "        text-align: right;\n",
       "    }\n",
       "</style>\n",
       "<table border=\"1\" class=\"dataframe\">\n",
       "  <thead>\n",
       "    <tr style=\"text-align: right;\">\n",
       "      <th></th>\n",
       "    </tr>\n",
       "  </thead>\n",
       "  <tbody>\n",
       "  </tbody>\n",
       "</table>\n",
       "</div>"
      ],
      "text/plain": [
       "Empty DataFrame\n",
       "Columns: []\n",
       "Index: []"
      ]
     },
     "execution_count": 28,
     "metadata": {},
     "output_type": "execute_result"
    }
   ],
   "source": [
    "# Convert the result to a Pandas DataFrame\n",
    "hygiene_results = establishments.find(query, req_fields).sort(sort)\n",
    "hygiene_results_df = pd.json_normalize(results)\n",
    "# Display the number of rows in the DataFrame\n",
    "print(hygiene_results_df.shape)\n",
    "# Display the first 10 rows of the DataFrame\n",
    "hygiene_results_df.head(10)"
   ]
  },
  {
   "cell_type": "markdown",
   "id": "0ef4395a",
   "metadata": {},
   "source": [
    "### 2. Which establishments in London have a `RatingValue` greater than or equal to 4?"
   ]
  },
  {
   "cell_type": "code",
   "execution_count": 15,
   "id": "93c63829",
   "metadata": {},
   "outputs": [
    {
     "name": "stdout",
     "output_type": "stream",
     "text": [
      "33\n",
      "\n",
      "{'AddressLine1': 'Air side London City Airport',\n",
      " 'BusinessName': 'Brick Lane Brews',\n",
      " 'BusinessType': 'Restaurant/Cafe/Canteen',\n",
      " '_id': ObjectId('67a04ddeaad77ef77ab66aca'),\n",
      " 'scores': {'ConfidenceInManagement': 5, 'Hygiene': 10, 'Structural': 5}}\n"
     ]
    }
   ],
   "source": [
    "# Find the establishments with London as the Local Authority and has a RatingValue greater than or equal to 4.\n",
    "query = {\"LocalAuthorityName\": {\"$regex\": \"London\"},\n",
    "         \"RatingValue\": {\"$gte\": 4}}\n",
    "req_fields = {\"_id\":1, \"AddressLine1\":1, \"BusinessName\":1, \"BusinessType\":1, \"scores\":1}\n",
    "\n",
    "# Use count_documents to display the number of documents in the result\n",
    "print(establishments.count_documents(query))\n",
    "\n",
    "# Display the first document in the results using pprint\n",
    "print()\n",
    "pprint(establishments.find(query, req_fields).sort(sort)[0])\n"
   ]
  },
  {
   "cell_type": "code",
   "execution_count": 16,
   "id": "07e24ccb",
   "metadata": {},
   "outputs": [
    {
     "name": "stdout",
     "output_type": "stream",
     "text": [
      "(33, 7)\n"
     ]
    },
    {
     "data": {
      "text/html": [
       "<div>\n",
       "<style scoped>\n",
       "    .dataframe tbody tr th:only-of-type {\n",
       "        vertical-align: middle;\n",
       "    }\n",
       "\n",
       "    .dataframe tbody tr th {\n",
       "        vertical-align: top;\n",
       "    }\n",
       "\n",
       "    .dataframe thead th {\n",
       "        text-align: right;\n",
       "    }\n",
       "</style>\n",
       "<table border=\"1\" class=\"dataframe\">\n",
       "  <thead>\n",
       "    <tr style=\"text-align: right;\">\n",
       "      <th></th>\n",
       "      <th>_id</th>\n",
       "      <th>BusinessName</th>\n",
       "      <th>BusinessType</th>\n",
       "      <th>AddressLine1</th>\n",
       "      <th>scores.Hygiene</th>\n",
       "      <th>scores.Structural</th>\n",
       "      <th>scores.ConfidenceInManagement</th>\n",
       "    </tr>\n",
       "  </thead>\n",
       "  <tbody>\n",
       "    <tr>\n",
       "      <th>0</th>\n",
       "      <td>67a04ddeaad77ef77ab66aca</td>\n",
       "      <td>Brick Lane Brews</td>\n",
       "      <td>Restaurant/Cafe/Canteen</td>\n",
       "      <td>Air side London City Airport</td>\n",
       "      <td>10</td>\n",
       "      <td>5</td>\n",
       "      <td>5</td>\n",
       "    </tr>\n",
       "    <tr>\n",
       "      <th>1</th>\n",
       "      <td>67a04ddaaad77ef77ab62279</td>\n",
       "      <td>Charlie's</td>\n",
       "      <td>Other catering premises</td>\n",
       "      <td>Oak Apple Farm Building 103 Sheernes Docks</td>\n",
       "      <td>5</td>\n",
       "      <td>10</td>\n",
       "      <td>5</td>\n",
       "    </tr>\n",
       "    <tr>\n",
       "      <th>2</th>\n",
       "      <td>67a04ddeaad77ef77ab66cc5</td>\n",
       "      <td>Caffè Nero</td>\n",
       "      <td>Restaurant/Cafe/Canteen</td>\n",
       "      <td>London City Airport Airside Departure Lounge</td>\n",
       "      <td>5</td>\n",
       "      <td>5</td>\n",
       "      <td>0</td>\n",
       "    </tr>\n",
       "    <tr>\n",
       "      <th>3</th>\n",
       "      <td>67a04ddeaad77ef77ab66f65</td>\n",
       "      <td>Mv Sunborn Yacht Hotel</td>\n",
       "      <td>Hotel/bed &amp; breakfast/guest house</td>\n",
       "      <td>Western Gateway</td>\n",
       "      <td>5</td>\n",
       "      <td>5</td>\n",
       "      <td>5</td>\n",
       "    </tr>\n",
       "    <tr>\n",
       "      <th>4</th>\n",
       "      <td>67a04ddeaad77ef77ab67170</td>\n",
       "      <td>Good Hotel London</td>\n",
       "      <td>Other catering premises</td>\n",
       "      <td>Western Gateway Royal Victoria Dock</td>\n",
       "      <td>5</td>\n",
       "      <td>5</td>\n",
       "      <td>5</td>\n",
       "    </tr>\n",
       "    <tr>\n",
       "      <th>5</th>\n",
       "      <td>67a04ddbaad77ef77ab6259f</td>\n",
       "      <td>Mv City Cruises Erasmus</td>\n",
       "      <td>Other catering premises</td>\n",
       "      <td>Cherry Garden Pier</td>\n",
       "      <td>0</td>\n",
       "      <td>5</td>\n",
       "      <td>0</td>\n",
       "    </tr>\n",
       "    <tr>\n",
       "      <th>6</th>\n",
       "      <td>67a04ddbaad77ef77ab630ec</td>\n",
       "      <td>Benfleet Motor Yacht Club</td>\n",
       "      <td>Other catering premises</td>\n",
       "      <td>Ferry Road</td>\n",
       "      <td>0</td>\n",
       "      <td>0</td>\n",
       "      <td>10</td>\n",
       "    </tr>\n",
       "    <tr>\n",
       "      <th>7</th>\n",
       "      <td>67a04ddcaad77ef77ab63eec</td>\n",
       "      <td>Coombs Catering t/a The Lock and Key</td>\n",
       "      <td>Restaurant/Cafe/Canteen</td>\n",
       "      <td>Leslie Ford House</td>\n",
       "      <td>0</td>\n",
       "      <td>5</td>\n",
       "      <td>0</td>\n",
       "    </tr>\n",
       "    <tr>\n",
       "      <th>8</th>\n",
       "      <td>67a04ddcaad77ef77ab63eed</td>\n",
       "      <td>Tilbury Seafarers Centre</td>\n",
       "      <td>Restaurant/Cafe/Canteen</td>\n",
       "      <td>Tenants Row Tilbury Docks</td>\n",
       "      <td>0</td>\n",
       "      <td>0</td>\n",
       "      <td>0</td>\n",
       "    </tr>\n",
       "    <tr>\n",
       "      <th>9</th>\n",
       "      <td>67a04ddcaad77ef77ab645f5</td>\n",
       "      <td>Mv Valulla</td>\n",
       "      <td>Other catering premises</td>\n",
       "      <td>Reeds River Cruises LtdKings ReachRiver Thames...</td>\n",
       "      <td>0</td>\n",
       "      <td>0</td>\n",
       "      <td>0</td>\n",
       "    </tr>\n",
       "  </tbody>\n",
       "</table>\n",
       "</div>"
      ],
      "text/plain": [
       "                        _id                          BusinessName  \\\n",
       "0  67a04ddeaad77ef77ab66aca                      Brick Lane Brews   \n",
       "1  67a04ddaaad77ef77ab62279                             Charlie's   \n",
       "2  67a04ddeaad77ef77ab66cc5                            Caffè Nero   \n",
       "3  67a04ddeaad77ef77ab66f65                Mv Sunborn Yacht Hotel   \n",
       "4  67a04ddeaad77ef77ab67170                     Good Hotel London   \n",
       "5  67a04ddbaad77ef77ab6259f               Mv City Cruises Erasmus   \n",
       "6  67a04ddbaad77ef77ab630ec             Benfleet Motor Yacht Club   \n",
       "7  67a04ddcaad77ef77ab63eec  Coombs Catering t/a The Lock and Key   \n",
       "8  67a04ddcaad77ef77ab63eed              Tilbury Seafarers Centre   \n",
       "9  67a04ddcaad77ef77ab645f5                            Mv Valulla   \n",
       "\n",
       "                        BusinessType  \\\n",
       "0            Restaurant/Cafe/Canteen   \n",
       "1            Other catering premises   \n",
       "2            Restaurant/Cafe/Canteen   \n",
       "3  Hotel/bed & breakfast/guest house   \n",
       "4            Other catering premises   \n",
       "5            Other catering premises   \n",
       "6            Other catering premises   \n",
       "7            Restaurant/Cafe/Canteen   \n",
       "8            Restaurant/Cafe/Canteen   \n",
       "9            Other catering premises   \n",
       "\n",
       "                                        AddressLine1  scores.Hygiene  \\\n",
       "0                       Air side London City Airport              10   \n",
       "1         Oak Apple Farm Building 103 Sheernes Docks               5   \n",
       "2       London City Airport Airside Departure Lounge               5   \n",
       "3                                    Western Gateway               5   \n",
       "4                Western Gateway Royal Victoria Dock               5   \n",
       "5                                 Cherry Garden Pier               0   \n",
       "6                                         Ferry Road               0   \n",
       "7                                  Leslie Ford House               0   \n",
       "8                          Tenants Row Tilbury Docks               0   \n",
       "9  Reeds River Cruises LtdKings ReachRiver Thames...               0   \n",
       "\n",
       "   scores.Structural  scores.ConfidenceInManagement  \n",
       "0                  5                              5  \n",
       "1                 10                              5  \n",
       "2                  5                              0  \n",
       "3                  5                              5  \n",
       "4                  5                              5  \n",
       "5                  5                              0  \n",
       "6                  0                             10  \n",
       "7                  5                              0  \n",
       "8                  0                              0  \n",
       "9                  0                              0  "
      ]
     },
     "execution_count": 16,
     "metadata": {},
     "output_type": "execute_result"
    }
   ],
   "source": [
    "# Convert the result to a Pandas DataFrame\n",
    "results = establishments.find(query, req_fields).sort(sort)\n",
    "london_df = pd.json_normalize(results)\n",
    "# Display the number of rows in the DataFrame\n",
    "print(london_df.shape)\n",
    "# Display the first 10 rows of the DataFrame\n",
    "london_df.head(10)"
   ]
  },
  {
   "attachments": {},
   "cell_type": "markdown",
   "id": "4e570caf",
   "metadata": {},
   "source": [
    "### 3. What are the top 5 establishments with a `RatingValue` rating value of 5, sorted by lowest hygiene score, nearest to the new restaurant added, \"Penang Flavours\"?"
   ]
  },
  {
   "cell_type": "code",
   "execution_count": 17,
   "id": "7f599f3d",
   "metadata": {},
   "outputs": [
    {
     "name": "stdout",
     "output_type": "stream",
     "text": [
      "87\n",
      "\n",
      "{'AddressLine1': '144 - 146 Plumstead High Street',\n",
      " 'BusinessName': 'Iceland',\n",
      " 'BusinessType': 'Retailers - supermarkets/hypermarkets',\n",
      " '_id': ObjectId('67a04ddeaad77ef77ab66090'),\n",
      " 'scores': {'ConfidenceInManagement': 5, 'Hygiene': 0, 'Structural': 5}}\n"
     ]
    }
   ],
   "source": [
    "# Search within 0.01 degree on either side of the latitude and longitude.\n",
    "# Rating value must equal 5\n",
    "# Sort by hygiene score\n",
    "\n",
    "degree_search = 0.01\n",
    "latitude = 51.49014200\n",
    "longitude = 0.08384000\n",
    "\n",
    "query = {\"geocode.latitude\": {\"$gte\": latitude - degree_search, \"$lte\": latitude + degree_search},\n",
    "        \"geocode.longitude\": {\"$gte\": longitude - degree_search, \"$lte\": longitude + degree_search},\n",
    "        \"RatingValue\": 5}\n",
    "req_fields = {\"_id\":1, \"AddressLine1\":1, \"BusinessName\":1, \"BusinessType\":1, \"scores\":1}\n",
    "sort = [(\"scores.Hygiene\", 1)]\n",
    "limit = 5\n",
    "\n",
    "# Print the results\n",
    "# Use count_documents to display the number of documents in the result\n",
    "print(establishments.count_documents(query))\n",
    "\n",
    "# Display the first document in the results using pprint\n",
    "print()\n",
    "pprint(establishments.find(query, req_fields).sort(sort)[0])\n"
   ]
  },
  {
   "cell_type": "code",
   "execution_count": 18,
   "id": "a6ad16f7",
   "metadata": {},
   "outputs": [
    {
     "name": "stdout",
     "output_type": "stream",
     "text": [
      "(87, 7)\n"
     ]
    },
    {
     "data": {
      "text/html": [
       "<div>\n",
       "<style scoped>\n",
       "    .dataframe tbody tr th:only-of-type {\n",
       "        vertical-align: middle;\n",
       "    }\n",
       "\n",
       "    .dataframe tbody tr th {\n",
       "        vertical-align: top;\n",
       "    }\n",
       "\n",
       "    .dataframe thead th {\n",
       "        text-align: right;\n",
       "    }\n",
       "</style>\n",
       "<table border=\"1\" class=\"dataframe\">\n",
       "  <thead>\n",
       "    <tr style=\"text-align: right;\">\n",
       "      <th></th>\n",
       "      <th>_id</th>\n",
       "      <th>BusinessName</th>\n",
       "      <th>BusinessType</th>\n",
       "      <th>AddressLine1</th>\n",
       "      <th>scores.Hygiene</th>\n",
       "      <th>scores.Structural</th>\n",
       "      <th>scores.ConfidenceInManagement</th>\n",
       "    </tr>\n",
       "  </thead>\n",
       "  <tbody>\n",
       "    <tr>\n",
       "      <th>0</th>\n",
       "      <td>67a04ddeaad77ef77ab66122</td>\n",
       "      <td>Abbi Wines</td>\n",
       "      <td>Retailers - other</td>\n",
       "      <td>12 - 14 Lakedale Road</td>\n",
       "      <td>0</td>\n",
       "      <td>0</td>\n",
       "      <td>0</td>\n",
       "    </tr>\n",
       "    <tr>\n",
       "      <th>1</th>\n",
       "      <td>67a04ddeaad77ef77ab66090</td>\n",
       "      <td>Iceland</td>\n",
       "      <td>Retailers - supermarkets/hypermarkets</td>\n",
       "      <td>144 - 146 Plumstead High Street</td>\n",
       "      <td>0</td>\n",
       "      <td>5</td>\n",
       "      <td>5</td>\n",
       "    </tr>\n",
       "    <tr>\n",
       "      <th>2</th>\n",
       "      <td>67a04ddeaad77ef77ab660a0</td>\n",
       "      <td>Howe and Co Fish and Chips - Van 17</td>\n",
       "      <td>Mobile caterer</td>\n",
       "      <td>Restaurant And Premises 107A Plumstead High St...</td>\n",
       "      <td>0</td>\n",
       "      <td>0</td>\n",
       "      <td>0</td>\n",
       "    </tr>\n",
       "    <tr>\n",
       "      <th>3</th>\n",
       "      <td>67a04ddeaad77ef77ab660bd</td>\n",
       "      <td>Volunteer</td>\n",
       "      <td>Pub/bar/nightclub</td>\n",
       "      <td>130 - 132 Plumstead High Street</td>\n",
       "      <td>0</td>\n",
       "      <td>0</td>\n",
       "      <td>0</td>\n",
       "    </tr>\n",
       "    <tr>\n",
       "      <th>4</th>\n",
       "      <td>67a04ddeaad77ef77ab660d5</td>\n",
       "      <td>Plumstead Manor Nursery</td>\n",
       "      <td>Caring Premises</td>\n",
       "      <td>Plumstead Manor School Old Mill Road</td>\n",
       "      <td>0</td>\n",
       "      <td>0</td>\n",
       "      <td>5</td>\n",
       "    </tr>\n",
       "    <tr>\n",
       "      <th>5</th>\n",
       "      <td>67a04ddeaad77ef77ab660d8</td>\n",
       "      <td>Atlantic Fish Bar</td>\n",
       "      <td>Takeaway/sandwich shop</td>\n",
       "      <td>35 Lakedale Road</td>\n",
       "      <td>0</td>\n",
       "      <td>0</td>\n",
       "      <td>5</td>\n",
       "    </tr>\n",
       "    <tr>\n",
       "      <th>6</th>\n",
       "      <td>67a04ddeaad77ef77ab660da</td>\n",
       "      <td>Lumbini Grocery Ltd T/A Al-Iman</td>\n",
       "      <td>Retailers - other</td>\n",
       "      <td>17 Lakedale Road</td>\n",
       "      <td>0</td>\n",
       "      <td>5</td>\n",
       "      <td>0</td>\n",
       "    </tr>\n",
       "    <tr>\n",
       "      <th>7</th>\n",
       "      <td>67a04ddeaad77ef77ab660f8</td>\n",
       "      <td>Greggs</td>\n",
       "      <td>Takeaway/sandwich shop</td>\n",
       "      <td>6 Lakedale Road</td>\n",
       "      <td>0</td>\n",
       "      <td>0</td>\n",
       "      <td>0</td>\n",
       "    </tr>\n",
       "    <tr>\n",
       "      <th>8</th>\n",
       "      <td>67a04ddeaad77ef77ab660f9</td>\n",
       "      <td>Tesco</td>\n",
       "      <td>Retailers - supermarkets/hypermarkets</td>\n",
       "      <td>18 Lakedale Road</td>\n",
       "      <td>0</td>\n",
       "      <td>5</td>\n",
       "      <td>0</td>\n",
       "    </tr>\n",
       "    <tr>\n",
       "      <th>9</th>\n",
       "      <td>67a04ddeaad77ef77ab66120</td>\n",
       "      <td>Dosa &amp; Sambal Express</td>\n",
       "      <td>Restaurant/Cafe/Canteen</td>\n",
       "      <td>107A Plumstead High Street</td>\n",
       "      <td>0</td>\n",
       "      <td>0</td>\n",
       "      <td>5</td>\n",
       "    </tr>\n",
       "  </tbody>\n",
       "</table>\n",
       "</div>"
      ],
      "text/plain": [
       "                        _id                         BusinessName  \\\n",
       "0  67a04ddeaad77ef77ab66122                           Abbi Wines   \n",
       "1  67a04ddeaad77ef77ab66090                              Iceland   \n",
       "2  67a04ddeaad77ef77ab660a0  Howe and Co Fish and Chips - Van 17   \n",
       "3  67a04ddeaad77ef77ab660bd                            Volunteer   \n",
       "4  67a04ddeaad77ef77ab660d5              Plumstead Manor Nursery   \n",
       "5  67a04ddeaad77ef77ab660d8                    Atlantic Fish Bar   \n",
       "6  67a04ddeaad77ef77ab660da      Lumbini Grocery Ltd T/A Al-Iman   \n",
       "7  67a04ddeaad77ef77ab660f8                               Greggs   \n",
       "8  67a04ddeaad77ef77ab660f9                                Tesco   \n",
       "9  67a04ddeaad77ef77ab66120                Dosa & Sambal Express   \n",
       "\n",
       "                            BusinessType  \\\n",
       "0                      Retailers - other   \n",
       "1  Retailers - supermarkets/hypermarkets   \n",
       "2                         Mobile caterer   \n",
       "3                      Pub/bar/nightclub   \n",
       "4                        Caring Premises   \n",
       "5                 Takeaway/sandwich shop   \n",
       "6                      Retailers - other   \n",
       "7                 Takeaway/sandwich shop   \n",
       "8  Retailers - supermarkets/hypermarkets   \n",
       "9                Restaurant/Cafe/Canteen   \n",
       "\n",
       "                                        AddressLine1  scores.Hygiene  \\\n",
       "0                              12 - 14 Lakedale Road               0   \n",
       "1                    144 - 146 Plumstead High Street               0   \n",
       "2  Restaurant And Premises 107A Plumstead High St...               0   \n",
       "3                    130 - 132 Plumstead High Street               0   \n",
       "4               Plumstead Manor School Old Mill Road               0   \n",
       "5                                   35 Lakedale Road               0   \n",
       "6                                   17 Lakedale Road               0   \n",
       "7                                    6 Lakedale Road               0   \n",
       "8                                   18 Lakedale Road               0   \n",
       "9                         107A Plumstead High Street               0   \n",
       "\n",
       "   scores.Structural  scores.ConfidenceInManagement  \n",
       "0                  0                              0  \n",
       "1                  5                              5  \n",
       "2                  0                              0  \n",
       "3                  0                              0  \n",
       "4                  0                              5  \n",
       "5                  0                              5  \n",
       "6                  5                              0  \n",
       "7                  0                              0  \n",
       "8                  5                              0  \n",
       "9                  0                              5  "
      ]
     },
     "execution_count": 18,
     "metadata": {},
     "output_type": "execute_result"
    }
   ],
   "source": [
    "# Convert the result to a Pandas DataFrame\n",
    "results = establishments.find(query, req_fields).sort(sort)\n",
    "top_df = pd.json_normalize(results)\n",
    "# Display the number of rows in the DataFrame\n",
    "print(top_df.shape)\n",
    "# Display the first 10 rows of the DataFrame\n",
    "top_df.head(10)\n"
   ]
  },
  {
   "cell_type": "markdown",
   "id": "67281254",
   "metadata": {},
   "source": [
    "### 4. How many establishments in each Local Authority area have a hygiene score of 0?"
   ]
  },
  {
   "cell_type": "code",
   "execution_count": 19,
   "id": "4eeb227e",
   "metadata": {},
   "outputs": [
    {
     "name": "stdout",
     "output_type": "stream",
     "text": [
      "Number of documents: 55\n",
      "Number of documents after aggregation: 55\n",
      "[{'_id': {'LocalAuthorityName': 'Thanet'}, 'num_restaurants': 1130},\n",
      " {'_id': {'LocalAuthorityName': 'Greenwich'}, 'num_restaurants': 882},\n",
      " {'_id': {'LocalAuthorityName': 'Maidstone'}, 'num_restaurants': 713},\n",
      " {'_id': {'LocalAuthorityName': 'Newham'}, 'num_restaurants': 711},\n",
      " {'_id': {'LocalAuthorityName': 'Swale'}, 'num_restaurants': 686},\n",
      " {'_id': {'LocalAuthorityName': 'Chelmsford'}, 'num_restaurants': 680},\n",
      " {'_id': {'LocalAuthorityName': 'Medway'}, 'num_restaurants': 672},\n",
      " {'_id': {'LocalAuthorityName': 'Bexley'}, 'num_restaurants': 607},\n",
      " {'_id': {'LocalAuthorityName': 'Southend-On-Sea'}, 'num_restaurants': 586},\n",
      " {'_id': {'LocalAuthorityName': 'Tendring'}, 'num_restaurants': 542}]\n"
     ]
    }
   ],
   "source": [
    "# Create a pipeline that:\n",
    "# 1. Matches establishments with a hygiene score of 0\n",
    "match_query = {'$match': {'scores.Hygiene': 0\n",
    "                         }\n",
    "              }\n",
    "# 2. Groups the matches by Local Authority\n",
    "group_query = {'$group': {'_id': {\n",
    "                                    'LocalAuthorityName': \"$LocalAuthorityName\"\n",
    "                                },\n",
    "                          'num_restaurants': { '$sum': 1 }, \n",
    "                         }\n",
    "              }\n",
    "\n",
    "# 3. Sorts the matches from highest to lowest\n",
    "sort_values = {'$sort': { 'num_restaurants': -1\n",
    "                        }\n",
    "              }\n",
    "\n",
    "pipeline = [match_query, group_query, sort_values]\n",
    "\n",
    "# Run the aggregation pipeline\n",
    "results = establishments.aggregate(pipeline)\n",
    "\n",
    "# Print the number of documents in the result\n",
    "results_df = list(results) \n",
    "print(\"Number of documents:\", len(results_df))\n",
    "\n",
    "# Print the number of documents in the result\n",
    "print(\"Number of documents after aggregation:\", len(results_df))\n",
    "\n",
    "# Print the first 10 results\n",
    "pprint(results_df[0:10])"
   ]
  },
  {
   "cell_type": "code",
   "execution_count": 20,
   "id": "d8aab364",
   "metadata": {},
   "outputs": [
    {
     "name": "stdout",
     "output_type": "stream",
     "text": [
      "Number of rows with a hygiene of 0: 55\n",
      "First 10 rows\n",
      "                                         _id  num_restaurants\n",
      "0           {'LocalAuthorityName': 'Thanet'}             1130\n",
      "1        {'LocalAuthorityName': 'Greenwich'}              882\n",
      "2        {'LocalAuthorityName': 'Maidstone'}              713\n",
      "3           {'LocalAuthorityName': 'Newham'}              711\n",
      "4            {'LocalAuthorityName': 'Swale'}              686\n",
      "5       {'LocalAuthorityName': 'Chelmsford'}              680\n",
      "6           {'LocalAuthorityName': 'Medway'}              672\n",
      "7           {'LocalAuthorityName': 'Bexley'}              607\n",
      "8  {'LocalAuthorityName': 'Southend-On-Sea'}              586\n",
      "9         {'LocalAuthorityName': 'Tendring'}              542\n"
     ]
    }
   ],
   "source": [
    "# Convert the result to a Pandas DataFrame\n",
    "df = pd.DataFrame(results_df)\n",
    "\n",
    "# Display the number of rows in the DataFrame\n",
    "print(\"Number of rows with a hygiene of 0:\", len(df))\n",
    "\n",
    "# Display the first 10 rows of the DataFrame\n",
    "print(\"First 10 rows\")\n",
    "print(df.head(10))\n"
   ]
  },
  {
   "cell_type": "code",
   "execution_count": null,
   "id": "15d0daa4-70df-4cff-acee-0d7c464a48be",
   "metadata": {},
   "outputs": [],
   "source": []
  }
 ],
 "metadata": {
  "kernelspec": {
   "display_name": "Python 3 (ipykernel)",
   "language": "python",
   "name": "python3"
  },
  "language_info": {
   "codemirror_mode": {
    "name": "ipython",
    "version": 3
   },
   "file_extension": ".py",
   "mimetype": "text/x-python",
   "name": "python",
   "nbconvert_exporter": "python",
   "pygments_lexer": "ipython3",
   "version": "3.12.4"
  }
 },
 "nbformat": 4,
 "nbformat_minor": 5
}
